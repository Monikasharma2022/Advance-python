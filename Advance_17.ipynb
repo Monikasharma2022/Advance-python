{
 "cells": [
  {
   "cell_type": "code",
   "execution_count": null,
   "id": "a84fe121",
   "metadata": {},
   "outputs": [],
   "source": [
    "Q1. Explain the difference between greedy and non-greedy syntax with visual terms in as few words\n",
    "as possible. What is the bare minimum effort required to transform a greedy pattern into a non-greedy\n",
    "one? What characters or characters can you introduce or change?\n",
    "Q2. When exactly does greedy versus non-greedy make a difference?  What if you&#39;re looking for a\n",
    "non-greedy match but the only one available is greedy?\n",
    "Q3. In a simple match of a string, which looks only for one match and does not do any replacement, is\n",
    "the use of a nontagged group likely to make any practical difference?\n",
    "Q4. Describe a scenario in which using a nontagged category would have a significant impact on the\n",
    "program&#39;s outcomes.\n",
    "Q5. Unlike a normal regex pattern, a look-ahead condition does not consume the characters it\n",
    "examines. Describe a situation in which this could make a difference in the results of your\n",
    "programme.\n",
    "Q6. In standard expressions, what is the difference between positive look-ahead and negative look-\n",
    "ahead?\n",
    "Q7. What is the benefit of referring to groups by name rather than by number in a standard\n",
    "expression?\n",
    "Q8. Can you identify repeated items within a target string using named groups, as in &quot;The cow\n",
    "jumped over the moon&quot;?\n",
    "Q9. When parsing a string, what is at least one thing that the Scanner interface does for you that the\n",
    "re.findall feature does not?\n",
    "Q10. Does a scanner object have to be named scanner?"
   ]
  },
  {
   "cell_type": "code",
   "execution_count": null,
   "id": "fef9e416",
   "metadata": {},
   "outputs": [],
   "source": [
    "Greedy syntax seeks the longest possible match, illustrated as stretching to cover more text, while non-greedy (or lazy) syntax \n",
    "seeks the shortest match, illustrated as contracting to cover less text. To transform a greedy pattern into a non-greedy one,\n",
    "you can introduce a question mark ? after a quantifier such as *, +, or {}, making it non-greedy. For example, .*? or .+? \n",
    "instead of .* or .+."
   ]
  },
  {
   "cell_type": "code",
   "execution_count": null,
   "id": "700ee8e5",
   "metadata": {},
   "outputs": [],
   "source": [
    "Greedy versus non-greedy quantifiers make a difference when the pattern contains multiple possible matches within the input string. Greedy quantifiers aim to match as much text as possible, potentially resulting in a longer match than desired. Non-greedy quantifiers, on the other hand, aim to match as little text as possible, providing a shorter match.\n",
    "If you're specifically looking for a non-greedy match but only a greedy match is available, you may encounter unexpected behavior or incorrect results. In such cases, you might need to adjust the regular expression pattern to ensure that it behaves as desired. This might involve refining the pattern, introducing additional constraints, or restructuring the regex to better fit the specific requirements of the matching task."
   ]
  },
  {
   "cell_type": "code",
   "execution_count": null,
   "id": "6fc66905",
   "metadata": {},
   "outputs": [],
   "source": [
    "In a simple match of a string where only one match is sought and no replacement is performed, using a non-tagged group may not make a practical difference in terms of the outcome of the match. Non-tagged groups are primarily used for capturing substrings for later reference or for logical grouping within the regular expression pattern. If you're not capturing the substring for later use or not utilizing the grouping for logical separation within the pattern, using a non-tagged group may not have any practical impact.\n",
    "For example, consider the following regular expression patterns:\n",
    "\n",
    "Using a non-tagged group:\n",
    "(?:pattern)\n",
    "Without using any group:\n",
    "pattern\n",
    "In scenarios where you're simply searching for a match without any need for capturing substrings or logical grouping, using a non-tagged group versus not using any group at all would likely not make any practical difference. The choice between them would depend on factors like readability, maintainability, and personal preference rather than affecting the outcome of the match."
   ]
  },
  {
   "cell_type": "code",
   "execution_count": null,
   "id": "c57ba5d4",
   "metadata": {},
   "outputs": [],
   "source": [
    "Entry: 001\n",
    "Name: John Doe\n",
    "Age: 30\n",
    "Occupation: Engineer\n",
    "Additional Information:\n",
    "- Address: 123 Main St\n",
    "- Email: john@example.com\n",
    "\n",
    "Entry: 002\n",
    "Name: Jane Smith\n",
    "Age: 25\n",
    "Occupation: Doctor\n",
    "Additional Information:\n",
    "- Address: 456 Elm St\n",
    "- Email: jane@example.com\n",
    "- Phone: 555-1234\n",
    "Now, suppose you want to extract the name and occupation from each entry but aren't interested in capturing the \"Additional Information\" section.\n",
    "You can use non-capturing groups to achieve this:\n",
    "Regular Expression Pattern:\n",
    "Entry: (\\d+)\n",
    "Name: (.+)\n",
    "Occupation: (.+)\n",
    "(?:Additional Information:\\n(?:.*\\n)*?)?\n",
    "\n",
    "Explanation:\n",
    "Entry: (\\d+): Captures the entry number.\n",
    "Name: (.+): Captures the name.\n",
    "Occupation: (.+): Captures the occupation.\n",
    "(?:Additional Information:\\n(?:.*\\n)*?)?: Non-capturing group that matches the \"Additional Information\" section if it exists,\n",
    "but it doesn't capture its content. The .* matches any characters in the line, and the *? ensures a non-greedy match to stop at\n",
    "the first empty line."
   ]
  },
  {
   "cell_type": "code",
   "execution_count": null,
   "id": "a9893112",
   "metadata": {},
   "outputs": [],
   "source": [
    "Let's consider a scenario where you want to extract email addresses from a text, but you want to exclude any email addresses that are followed by a specific word, let's say \"private\". Using a look-ahead assertion, you can achieve this exclusion without consuming characters.\n",
    "Here's an example:\n",
    "Text:\n",
    "john@example.com\n",
    "jane@example.com private\n",
    "doe@example.com\n",
    "smith@example.com\n",
    "\n",
    "Regular Expression Pattern:\n",
    "\\S+@\\S+(?! private)\n",
    "Explanation:\n",
    "\n",
    "\\S+@\\S+: Matches the email address pattern (one or more non-whitespace characters, followed by '@', followed by one or more non-whitespace characters).\n",
    "(?! private): Negative look-ahead assertion. Checks if the pattern is not followed by the word \"private\" without consuming characters.\n",
    "In this scenario, without the use of look-ahead assertions, you might mistakenly include email addresses that are followed by \"private\" in your results. By employing the look-ahead assertion, you ensure that only email addresses not followed by \"private\" are matched, thus providing more accurate results."
   ]
  },
  {
   "cell_type": "code",
   "execution_count": null,
   "id": "deeccd14",
   "metadata": {},
   "outputs": [],
   "source": [
    "In regular expressions, both positive look-ahead and negative look-ahead are types of look-around assertions. They are used to check if a pattern matches (or doesn't match) ahead of the current position in the string without consuming characters. However, they serve different purposes:\n",
    "Positive Look-ahead (pattern):\n",
    "Syntax: (?=pattern)\n",
    "Description: Asserts that the text following the current position matches the specified pattern.\n",
    "Example: foo(?=bar) matches \"foo\" only if it's followed by \"bar\" but doesn't include \"bar\" in the match.\n",
    "Use case: Useful for ensuring that a certain condition is met ahead of the current position without including it in the match itself.\n",
    "\n",
    "Negative Look-ahead (pattern):\n",
    "Syntax: (?!pattern)\n",
    "Description: Asserts that the text following the current position does not match the specified pattern.\n",
    "Example: foo(?!bar) matches \"foo\" only if it's not followed by \"bar\".\n",
    "Use case: Useful for excluding certain patterns from matches. It's often used to impose constraints or conditions on matches."
   ]
  },
  {
   "cell_type": "code",
   "execution_count": null,
   "id": "a58f1725",
   "metadata": {},
   "outputs": [],
   "source": [
    "Readability and Maintainability: Named groups make the regular expression easier to understand because the names convey the purpose of each group. This improves readability, especially for complex patterns or patterns maintained by multiple developers. With named groups, it's clear what each group represents without needing to count or remember group numbers.\n",
    "Self-Documenting Patterns: Named groups act as self-documenting elements within the regular expression. By giving meaningful names to groups, you provide context and documentation directly within the pattern itself. This can help other developers (or even your future self) understand the purpose of each group without additional comments or external documentation.\n",
    "Avoidance of Group Number Changes: When you modify a regular expression by adding or removing groups, referring to groups by number can lead to errors if the group numbering changes. Named groups eliminate this risk because they're identified by their names rather than their positions. Even if you modify the pattern and reorder or add/remove groups, as long as the names remain consistent, the references to those groups will remain valid.\n",
    "Improved Code Robustness: Named groups make your code more robust to changes in the regular expression pattern. If you need to make modifications to the pattern in the future, using named groups reduces the likelihood of introducing bugs related to group references. This is particularly valuable in large codebases or when working on projects with frequent updates.\n",
    "Better Integration with Libraries and Tools: Many programming languages and libraries support accessing captured groups by name directly, which simplifies post-processing tasks. For example, in Python's re module, you can access named groups using the groupdict() method, which returns a dictionary of captured groups indexed by their names. This integration makes working with named groups seamless and efficient."
   ]
  },
  {
   "cell_type": "code",
   "execution_count": 1,
   "id": "cdde667b",
   "metadata": {},
   "outputs": [
    {
     "name": "stdout",
     "output_type": "stream",
     "text": [
      "Repeated words: ['cow']\n"
     ]
    }
   ],
   "source": [
    "You can achieve this using a named group and a backreference. Here's how you can do it in Python:\n",
    "import re\n",
    "text = \"The cow jumped over the moon and the cow danced under the stars.\"\n",
    "\n",
    "# Regular expression pattern to match repeated words\n",
    "pattern = r'\\b(?P<word>\\w+)\\b.*\\b(?P=word)\\b'\n",
    "\n",
    "# Find all matches\n",
    "matches = re.findall(pattern, text)\n",
    "\n",
    "# Print the repeated words\n",
    "print(\"Repeated words:\", matches)\n",
    "\n",
    "Explanation of the regular expression pattern:\n",
    "\\b: Word boundary anchor ensures that we match whole words.\n",
    "(?P<word>\\w+): Named capturing group named \"word\" to capture a word.\n",
    ".*: Matches any characters in between the two occurrences of the word.\n",
    "(?P=word): Backreference to the named group \"word\", ensuring that the same word is repeated.\n",
    "This pattern will identify any repeated word in the string. In this example, it will match \"cow\" because it appears twice in the string. The output will be:\n",
    "\n",
    "Repeated words: ['cow']"
   ]
  },
  {
   "cell_type": "code",
   "execution_count": null,
   "id": "8634de93",
   "metadata": {},
   "outputs": [],
   "source": [
    "The Scanner interface in Java and the re.findall() function in Python serve similar purposes—they both allow you to search for patterns within a string. However, there is at least one thing that the Scanner interface does for you that the re.findall() feature does not: tokenization.\n",
    "In Java, the Scanner class provides methods to parse input into tokens based on delimiters. This means you can easily split a string into smaller parts (tokens) based on specific criteria, such as whitespace, commas, or custom delimiters. The Scanner class handles the process of iterating over the string and extracting these tokens for you.\n",
    "On the other hand, re.findall() in Python is primarily focused on finding all non-overlapping matches of a pattern within a string. While you can use regular expressions to define patterns for tokenization, re.findall() does not inherently provide tokenization capabilities. You would need to define the appropriate regular expression pattern to achieve tokenization, and it might require more manual effort compared to using the Scanner interface in Java.\n",
    "In summary, the Scanner interface in Java provides built-in tokenization functionality for parsing strings, while re.findall() in Python focuses on pattern matching and does not handle tokenization out of the box."
   ]
  },
  {
   "cell_type": "code",
   "execution_count": null,
   "id": "1d2dea97",
   "metadata": {},
   "outputs": [],
   "source": [
    "In Python, there's no specific requirement to name a Scanner-like object as \"scanner\". You can name it whatever you like, as long as it follows Python's variable naming conventions.\n",
    "\n",
    "For example, let's consider using the input() function for simple user input, which serves a similar purpose as a Scanner in Java:\n",
    "# Using input() function for user input\n",
    "user_input = input(\"Enter your name: \")\n",
    "print(\"Hello, \" + user_input + \"!\")\n",
    "\n",
    "In this example, user_input is a variable that stores the input obtained from the user. You can name it anything you prefer, as long as it's a valid variable name in Python. Similarly, if you're using libraries like re for regex operations, you can name the objects according to your preference:\n",
    "import re\n",
    "# Using re.findall() for regex pattern matching\n",
    "pattern = r'\\b\\w{3}\\b'  # Example pattern: matching three-letter words\n",
    "text = \"The cat sat on the mat\"\n",
    "matches = re.findall(pattern, text)\n",
    "print(\"Matches:\", matches)"
   ]
  }
 ],
 "metadata": {
  "kernelspec": {
   "display_name": "Python 3 (ipykernel)",
   "language": "python",
   "name": "python3"
  },
  "language_info": {
   "codemirror_mode": {
    "name": "ipython",
    "version": 3
   },
   "file_extension": ".py",
   "mimetype": "text/x-python",
   "name": "python",
   "nbconvert_exporter": "python",
   "pygments_lexer": "ipython3",
   "version": "3.8.10"
  }
 },
 "nbformat": 4,
 "nbformat_minor": 5
}
