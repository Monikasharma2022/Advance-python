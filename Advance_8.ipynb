{
 "cells": [
  {
   "cell_type": "code",
   "execution_count": null,
   "id": "dad3ac6b",
   "metadata": {},
   "outputs": [],
   "source": [
    "# Q1. What are the two latest user-defined exception constraints in Python 3.X?\n",
    "# Q2. How are class-based exceptions that have been raised matched to handlers?\n",
    "# Q3. Describe two methods for attaching context information to exception artefacts.\n",
    "# Q4. Describe two methods for specifying the text of an exception object&#39;s error message.\n",
    "# Q5. Why do you no longer use string-based exceptions?"
   ]
  },
  {
   "cell_type": "code",
   "execution_count": null,
   "id": "2a3cd63a",
   "metadata": {},
   "outputs": [],
   "source": [
    "# Inherit from Exception or its subclasses: Custom exceptions should typically inherit from the built-in Exception class or one of its subclasses. This allows them to be caught by generic except clauses or more specific handlers.\n",
    "# class CustomError(Exception):\n",
    "#     pass\n",
    "\n",
    "# Provide Informative Error Messages: It's good practice for custom exceptions to include informative error messages that describe the nature of the error. This helps users of your code understand why the exception was raised.\n",
    "# class CustomError(Exception):\n",
    "#     def __init__(self, message):\n",
    "#         super().__init__(message)"
   ]
  },
  {
   "cell_type": "code",
   "execution_count": null,
   "id": "c631e77f",
   "metadata": {},
   "outputs": [],
   "source": [
    "# In Python, when an exception is raised, the interpreter searches for an exception handler that can handle that specific type of exception. This search is performed by examining the call stack and looking for an appropriate except block.\n",
    "\n",
    "# When a class-based exception is raised, the interpreter traverses the inheritance hierarchy of the exception class to find a matching exception handler. It starts from the most derived exception class and moves towards the base classes until a suitable handler is found. If no handler is found, the exception propagates up the call stack until it either encounters a matching handler or reaches the top level of the program, resulting in an unhandled exception and potentially terminating the program.\n",
    "\n",
    "# class CustomError(Exception):\n",
    "#     pass\n",
    "\n",
    "# try:\n",
    "#     raise CustomError(\"This is a custom error\")\n",
    "# except CustomError as e:\n",
    "#     print(\"CustomError handler\")\n",
    "# except Exception as e:\n",
    "#     print(\"Generic exception handler\")\n",
    "# In this example, if a CustomError is raised, it will be caught by the except CustomError as e: block because it is more specific. If a different type of exception is raised that doesn't match CustomError, the except Exception as e: block will catch it as a fallback, since all exceptions inherit from the base Exception class."
   ]
  },
  {
   "cell_type": "code",
   "execution_count": null,
   "id": "d7295d70",
   "metadata": {},
   "outputs": [],
   "source": [
    "# Attaching context information to exception artifacts can be crucial for debugging and understanding the cause of errors in a program. Here are two common methods for attaching context information to exceptions in Python:\n",
    "\n",
    "# Custom Exception Classes with Context Parameters:\n",
    "# One approach is to create custom exception classes that accept additional context information as parameters during initialization. This context information can provide details about the state of the program when the exception occurred. Here's an example:\n",
    "# class CustomError(Exception):\n",
    "#     def __init__(self, message, context=None):\n",
    "#         super().__init__(message)\n",
    "#         self.context = context\n",
    "\n",
    "# # Example usage:\n",
    "# try:\n",
    "#     # Code that may raise an exception\n",
    "#     pass\n",
    "# except Exception as e:\n",
    "#     # Attach context information to the exception\n",
    "#     raise CustomError(\"An error occurred\", context={\"variable\": x, \"line_number\": 42}) from e\n",
    "# In this example, when an exception is caught, a CustomError is raised with an additional context parameter containing relevant information such as variable values or line numbers.\n",
    "\n",
    "# Using the with_traceback() Method:\n",
    "\n",
    "# Another method is to use the with_traceback() method available on exception objects. This method allows you to attach a traceback from another exception to a new exception. Here's how you can use it:\n",
    "# try:\n",
    "#     # Code that may raise an exception\n",
    "#     pass\n",
    "# except Exception as e:\n",
    "#     # Create a new exception and attach the traceback of the original exception\n",
    "#     new_exception = Exception(\"An error occurred with additional context\")\n",
    "#     raise new_exception.with_traceback(e.__traceback__)\n",
    "# This method preserves the original traceback information while providing a new exception message with additional context."
   ]
  },
  {
   "cell_type": "code",
   "execution_count": null,
   "id": "7c796bae",
   "metadata": {},
   "outputs": [],
   "source": [
    "# In Python, you can specify the text of an exception object's error message in various ways to provide meaningful information about the error. Here are two common methods for specifying the error message text:\n",
    "# Directly Passing Error Message to Exception Class:\n",
    "# One straightforward method is to directly pass the error message as an argument when raising an exception. This allows you to customize the error message based on the specific situation where the exception is raised. Here's an example:\n",
    "# # Raise an exception with a custom error message\n",
    "# raise ValueError(\"Invalid input: the value must be positive\")\n",
    "# In this example, the ValueError exception is raised with the specified error message \"Invalid input: the value must be positive\". This method is simple and concise, making it easy to communicate the reason for the exception.\n",
    "\n",
    "# Formatting Error Message using String Formatting or f-strings:\n",
    "# Another method is to format the error message dynamically using string formatting techniques or f-strings. This allows you to include variable values or other context information within the error message. Here's an example using string formatting:\n",
    "# # Define variables\n",
    "# value = -5\n",
    "# # Raise an exception with a formatted error message\n",
    "# raise ValueError(\"Invalid input: the value '{}' is not positive\".format(value))\n",
    "\n",
    "# And here's the same example using f-strings:\n",
    "# # Define variables\n",
    "# value = -5\n",
    "# # Raise an exception with a formatted error message using f-strings\n",
    "# raise ValueError(f\"Invalid input: the value '{value}' is not positive\")\n",
    "# Both of these examples produce an error message that includes the value of the value variable, providing additional context about the error. Using string formatting or f-strings allows for more dynamic and expressive error messages."
   ]
  },
  {
   "cell_type": "code",
   "execution_count": null,
   "id": "a3802209",
   "metadata": {},
   "outputs": [],
   "source": [
    "# String-based exceptions, where you raise an exception by passing a string message instead of an exception object, have largely fallen out of favor in modern Python programming. There are several reasons for this:\n",
    "# Lack of Information: String-based exceptions provide limited information about the type of error that occurred. When you catch such an exception, you can't easily distinguish between different types of errors based on the exception type. This makes it harder to handle errors appropriately and can lead to less robust error handling.\n",
    "# No Stack Trace: String-based exceptions do not capture stack trace information by default. Stack trace information is crucial for debugging as it provides a traceback of function calls leading up to the error, helping developers identify the root cause of the problem. Without this information, it becomes more challenging to diagnose and fix errors.\n",
    "# Not Compatible with Exception Hierarchy: Python's exception hierarchy allows for organizing exceptions in a meaningful way, with built-in exception classes like ValueError, TypeError, etc. Using string-based exceptions bypasses this hierarchy, leading to inconsistency and difficulty in organizing and handling exceptions in a systematic manner.\n",
    "# Readability and Maintainability: Exception objects provide a clear and standardized way of raising and handling errors in Python code. Using string-based exceptions can make the code less readable and maintainable, as it deviates from common coding practices and conventions.\n",
    "# Deprecation and Removal: Python has been gradually deprecating string-based exceptions over the years, discouraging their use in favor of exception objects. In Python 3, raising exceptions with string messages is discouraged, and in Python 3.0, string-based exceptions were removed altogether."
   ]
  },
  {
   "cell_type": "code",
   "execution_count": null,
   "id": "5b548d20",
   "metadata": {},
   "outputs": [],
   "source": []
  }
 ],
 "metadata": {
  "kernelspec": {
   "display_name": "Python 3 (ipykernel)",
   "language": "python",
   "name": "python3"
  },
  "language_info": {
   "codemirror_mode": {
    "name": "ipython",
    "version": 3
   },
   "file_extension": ".py",
   "mimetype": "text/x-python",
   "name": "python",
   "nbconvert_exporter": "python",
   "pygments_lexer": "ipython3",
   "version": "3.8.10"
  }
 },
 "nbformat": 4,
 "nbformat_minor": 5
}
