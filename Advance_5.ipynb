{
 "cells": [
  {
   "cell_type": "code",
   "execution_count": null,
   "id": "d46f4ac5",
   "metadata": {},
   "outputs": [],
   "source": [
    "# Q1. What is the meaning of multiple inheritance?\n",
    "# Q2. What is the concept of delegation?\n",
    "# Q3. What is the concept of composition?\n",
    "# Q4. What are bound methods and how do we use them?\n",
    "# Q5. What is the purpose of pseudoprivate attributes?"
   ]
  },
  {
   "cell_type": "code",
   "execution_count": null,
   "id": "96cb97cb",
   "metadata": {},
   "outputs": [],
   "source": [
    "Multiple inheritance is a feature in object-oriented programming languages where a class can inherit attributes and methods from more than one parent class. In other words, a class can inherit behavior and characteristics from multiple other classes.\n",
    "\n",
    "In languages that support multiple inheritance, a subclass can inherit from multiple parent classes. This allows the subclass to access and use the attributes and methods of all its parent classes. This can be useful when a class needs to exhibit behaviors from different sources or when a class naturally fits into multiple categories.\n",
    "\n",
    "For example, consider a programming scenario where you have a class Car and a class Boat, both representing different types of vehicles. Now, you might want to create a class AmphibiousVehicle which can inherit from both Car and Boat classes to represent vehicles that can operate on both land and water. This is a typical use case where multiple inheritance can be beneficial.\n",
    "\n",
    "However, multiple inheritance can introduce complexities, such as the diamond problem, where a class inherits from two classes that have a common ancestor. This can lead to ambiguities in method resolution and potential conflicts in the inheritance hierarchy. To address such issues, languages like Python provide a method resolution order (MRO) algorithm to determine the order in which methods are inherited and executed"
   ]
  },
  {
   "cell_type": "code",
   "execution_count": null,
   "id": "c3db97aa",
   "metadata": {},
   "outputs": [],
   "source": [
    "# Delegation is a design pattern in object-oriented programming where an object passes responsibility for a task to another object. Instead of performing the task itself, the delegating object (also known as the client or sender) delegates the task to another object (the delegate or receiver) which is responsible for carrying out the task.\n",
    "# The concept of delegation is based on the idea of composition, where objects are composed of other objects to achieve functionality. It promotes code reuse and modular design by allowing objects to collaborate and share responsibilities.\n",
    "# Here are some key points about delegation:\n",
    "\n",
    "# Separation of Concerns: Delegation helps in separating different concerns or responsibilities of an object, making the codebase more modular and easier to maintain.\n",
    "\n",
    "# Flexibility and Extensibility: Delegation allows objects to be easily replaced or extended with other objects that provide different implementations of the delegated task. This promotes flexibility and extensibility in the design.\n",
    "\n",
    "# Encapsulation: Delegation encapsulates the details of how a task is performed within the delegate object, hiding the implementation details from the delegating object.\n",
    "\n",
    "# Loose Coupling: Delegation promotes loose coupling between objects, as the delegating object doesn't need to know the internal details of how the task is performed by the delegate object.\n",
    "\n",
    "# Dynamic Dispatch: Delegation allows for dynamic dispatch, where the actual behavior of the delegated task can be determined at runtime based on the type of the delegate object."
   ]
  },
  {
   "cell_type": "code",
   "execution_count": null,
   "id": "3af56f88",
   "metadata": {},
   "outputs": [],
   "source": [
    "# Composition is a fundamental concept in object-oriented programming (OOP) that involves creating complex objects by combining simpler ones. It allows objects to be composed of other objects as components, forming a part-whole relationship.\n",
    "\n",
    "# In composition, an object contains one or more instances of other classes, known as its components or parts. These components are essential for the functionality of the containing object and are typically created and managed by the containing object.\n",
    "\n",
    "# Here are some key points about composition:\n",
    "\n",
    "# Part-Whole Relationship: Composition establishes a part-whole relationship between objects, where the containing object is made up of its component objects.\n",
    "\n",
    "# Code Reusability: Composition promotes code reusability by allowing components to be shared among multiple containing objects. This reduces duplication and improves maintainability.\n",
    "\n",
    "# Encapsulation: Composition encapsulates the behavior and state of the component objects within the containing object. The internal details of the components are hidden from external objects, providing abstraction and modularity.\n",
    "\n",
    "# Flexibility: Composition allows for greater flexibility in designing complex systems. Objects can be composed and decomposed dynamically, enabling easy modification and extension of functionality.\n",
    "\n",
    "# Dynamic Binding: Composition enables dynamic binding, where the behavior of the containing object can be dynamically determined at runtime based on the types of its components."
   ]
  },
  {
   "cell_type": "code",
   "execution_count": null,
   "id": "33a56b36",
   "metadata": {},
   "outputs": [],
   "source": [
    "Bound methods are methods that are associated with a specific instance of a class. When a method is called on an instance of a class, it is automatically bound to that instance. This means that the method has access to the attributes and state of the instance it is bound to.\n",
    "\n",
    "Here's an example to illustrate bound methods:\n",
    "class MyClass:\n",
    "    def __init__(self, value):\n",
    "        self.value = value\n",
    "\n",
    "    def print_value(self):\n",
    "        print(self.value)\n",
    "\n",
    "# Creating an instance of MyClass\n",
    "obj = MyClass(10)\n",
    "\n",
    "# Calling the bound method print_value() on the instance obj\n",
    "obj.print_value()  # Output: 10\n",
    "In this example, print_value() is a method defined within the MyClass class. When obj.print_value() is called, print_value() becomes a bound method associated with the obj instance. Within the print_value() method, self refers to the instance obj, allowing it to access the value attribute of obj and print it."
   ]
  },
  {
   "cell_type": "code",
   "execution_count": null,
   "id": "47a4d2f7",
   "metadata": {},
   "outputs": [],
   "source": [
    "# Pseudoprivate attributes in Python are attributes that are prefixed with double underscores (__). These attributes are also sometimes referred to as \"name mangling\" attributes. The purpose of pseudoprivate attributes is to provide a way to create class-specific private variables that are hidden from outside access but are still accessible within the class and its subclasses.\n",
    "\n",
    "# Here are some key points about pseudoprivate attributes and their purpose:\n",
    "\n",
    "# Encapsulation: Pseudoprivate attributes help encapsulate the internal state of a class by hiding implementation details from outside code. They prevent accidental or intentional modification of internal attributes by external code.\n",
    "\n",
    "# Preventing Name Clashes: Pseudoprivate attributes are useful in preventing name clashes with attributes defined in subclasses or in other classes. By prefixing an attribute with double underscores, it becomes more likely that the attribute name will be unique within the class and its subclasses.\n",
    "\n",
    "# Subclassing and Inheritance: Pseudoprivate attributes can be inherited by subclasses, allowing them to access and modify the attribute as needed. However, pseudoprivate attributes are still hidden from external code, maintaining encapsulation.\n",
    "\n",
    "# Namespace Management: Pseudoprivate attributes help manage the namespace of a class by preventing accidental name clashes with attributes defined in subclasses or with attributes defined in other classes that might be used as mixins.\n",
    "\n",
    "# It's important to note that pseudoprivate attributes in Python are not truly private in the sense of other programming languages like Java or C++, where access is restricted to methods within the same class. In Python, pseudoprivate attributes can still be accessed and modified from outside the class by using name mangling (e.g., _ClassName__attribute). However, this practice is discouraged, as it violates encapsulation and can lead to unexpected behavior."
   ]
  },
  {
   "cell_type": "code",
   "execution_count": null,
   "id": "00604e93",
   "metadata": {},
   "outputs": [],
   "source": []
  }
 ],
 "metadata": {
  "kernelspec": {
   "display_name": "Python 3 (ipykernel)",
   "language": "python",
   "name": "python3"
  },
  "language_info": {
   "codemirror_mode": {
    "name": "ipython",
    "version": 3
   },
   "file_extension": ".py",
   "mimetype": "text/x-python",
   "name": "python",
   "nbconvert_exporter": "python",
   "pygments_lexer": "ipython3",
   "version": "3.8.10"
  }
 },
 "nbformat": 4,
 "nbformat_minor": 5
}
