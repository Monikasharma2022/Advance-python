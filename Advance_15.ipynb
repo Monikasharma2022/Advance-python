{
 "cells": [
  {
   "cell_type": "code",
   "execution_count": null,
   "id": "38d416e9",
   "metadata": {},
   "outputs": [],
   "source": [
    "# 1. What are the new features added in Python 3.8 version?\n",
    "# 2. What is monkey patching in Python?\n",
    "# 3. What is the difference between a shallow copy and deep copy?\n",
    "# 4. What is the maximum possible length of an identifier?\n",
    "# 5. What is generator comprehension?"
   ]
  },
  {
   "cell_type": "code",
   "execution_count": null,
   "id": "5fd9879e",
   "metadata": {},
   "outputs": [],
   "source": [
    "Python 3.8 introduced several new features and improvements. Some of the key features added in Python 3.8 include:\n",
    "Assignment Expressions (the Walrus Operator): The introduction of the assignment expression operator (:=), also known as the \"walrus operator,\" allows you to assign values to variables as part of an expression. For example:\n",
    "# Instead of:\n",
    "if (count := len(some_list)) > 5:\n",
    "    print(f\"List is too long ({count} elements, expected <= 5)\")\n",
    "\n",
    "# You can now write:\n",
    "if (count := len(some_list)) > 5:\n",
    "    print(f\"List is too long ({count} elements, expected <= 5)\")\n",
    "\n",
    "    Positional-Only Parameters: Function parameters can now be designated as positional-only by placing a / character in the function definition. This means that the parameters before the / can only be passed by position and not by keyword.\n",
    "f-strings Support \"=\" specifier: Python f-strings gained a new = specifier that causes the result to be formatted with the repr() of the expression. This can be useful for debugging purposes.\n",
    "TypedDict: The typing.TypedDict class was introduced to support creation of dictionary subclasses with explicit type information.\n",
    "Syntax Warning for Unreachable Code: Python 3.8 introduces a new SyntaxWarning for when it detects unreachable code.\n",
    "Performance Improvements: Python 3.8 includes various performance improvements, including optimizations to dictionary and set operations, optimizations for built-in functions, and more efficient memory allocation.\n",
    "Other Improvements: Other improvements in Python 3.8 include a new math.prod() function for calculating the product of a sequence of numbers, the importlib.metadata module for reading metadata from installed distributions, and various library improvements and updates."
   ]
  },
  {
   "cell_type": "code",
   "execution_count": null,
   "id": "27e3b0c2",
   "metadata": {},
   "outputs": [],
   "source": [
    "Monkey patching in Python refers to the practice of dynamically modifying or extending code at runtime, typically by modifying attributes or methods of classes or modules.\n",
    "Here's an example to illustrate monkey patching:\n",
    "Suppose you have a module named module.py with the following code:\n",
    "# module.py\n",
    "def greet():\n",
    "    return \"Hello!\"\n",
    "Now, let's say you want to change the behavior of the greet() function without modifying the original module. You can achieve this using monkey patching:\n",
    "# monkey_patch.py\n",
    "import module\n",
    "\n",
    "# Define a new function with the desired behavior\n",
    "def new_greet():\n",
    "    return \"Hi there!\"\n",
    "\n",
    "# Monkey patch: Replace the original greet() function with the new_greet() function\n",
    "module.greet = new_greet\n",
    "\n",
    "# Now when you call greet(), it will execute the new behavior\n",
    "print(module.greet())  # Output: \"Hi there!\"\n",
    "In this example, we imported the module module and defined a new function new_greet() with the desired behavior. Then, we replaced the original greet() function in the module module with our new function using monkey patching. As a result, when we call module.greet(), it executes the new behavior defined in new_greet().\n",
    "\n",
    "Monkey patching can be useful for various purposes, such as:\n",
    "\n",
    "Patching bugs or adding new features to third-party libraries without modifying their source code.\n",
    "Testing and mocking in unit tests to replace parts of the code with mocks or stubs.\n",
    "Hotfixing live applications without restarting them by dynamically updating code at runtime."
   ]
  },
  {
   "cell_type": "code",
   "execution_count": null,
   "id": "ed134fda",
   "metadata": {},
   "outputs": [],
   "source": [
    "In Python, both shallow copy and deep copy are techniques used to create copies of objects, but they differ in how they handle nested objects or references within the original object. Here's the difference:\n",
    "\n",
    "Shallow Copy:\n",
    "A shallow copy creates a new object, but it doesn't create copies of nested objects within the original object. Instead, it copies the references to the nested objects.\n",
    "As a result, changes made to the nested objects in the copied object will also affect the original object, and vice versa.\n",
    "Shallow copy can be created using the copy() method or the copy module's copy() function.\n",
    "Shallow copy is a more lightweight operation compared to deep copy, as it doesn't recursively copy nested objects.\n",
    "\n",
    "Deep Copy:\n",
    "A deep copy creates a new object and recursively creates copies of all nested objects within the original object.\n",
    "It ensures that changes made to the copied object or its nested objects do not affect the original object, and vice versa.\n",
    "Deep copy can be created using the copy module's deepcopy() function.\n",
    "Deep copy is a more intensive operation compared to shallow copy, as it recursively copies all nested objects, potentially leading to increased memory usage and slower performance."
   ]
  },
  {
   "cell_type": "code",
   "execution_count": null,
   "id": "099dd707",
   "metadata": {},
   "outputs": [],
   "source": [
    "In Python, the maximum possible length of an identifier (i.e., the name of a variable, function, class, etc.) is implementation-dependent. However, according to the Python language reference, identifiers can be of any length, but only the first 255 characters are significant.\n",
    "\n",
    "This means that Python identifiers can technically be as long as memory allows, but only the first 255 characters are considered significant. Identifiers longer than 255 characters will still work, but any characters beyond the 255th position will be ignored by the Python interpreter.\n",
    "\n",
    "Here's an example to illustrate this:\n",
    "# This is a valid identifier with 256 characters\n",
    "this_is_a_very_long_identifier_that_exceeds_the_maximum_possible_length_of_an_identifier_in_python_but_it_will_still_work = 42\n",
    "\n",
    "# This is also a valid identifier with 256 characters, but only the first 255 characters are significant\n",
    "this_is_a_very_long_identifier_that_exceeds_the_maximum_possible_length_of_an_identifier_in_python_but_it_will_still_work_but_only_the_first_255_characters_are_significant = 42\n",
    "Both of the identifiers in the example above are technically valid in Python, but only the first 255 characters are significant. Beyond that, the Python interpreter will ignore the additional characters. Therefore, it's generally a good practice to keep identifiers concise and meaningful within the first 255 characters to ensure clarity and readability of the code."
   ]
  },
  {
   "cell_type": "code",
   "execution_count": null,
   "id": "13cf519c",
   "metadata": {},
   "outputs": [],
   "source": [
    "Generator comprehension, also known as generator expression, is a concise way to create generators in Python. It is similar to list comprehension but returns a generator instead of a list.\n",
    "\n",
    "The syntax for generator comprehension is similar to list comprehension, but it uses round brackets () instead of square brackets []. Here's the general syntax:\n",
    "(generator_expression for item in iterable if condition)\n",
    "In a generator comprehension:\n",
    "\n",
    "generator_expression is the expression used to generate values.\n",
    "item is the variable that takes each value from the iterable.\n",
    "iterable is the sequence of elements that you want to iterate over.\n",
    "condition is an optional filter that allows you to include only those values that satisfy the condition.\n",
    "Generator comprehensions are lazily evaluated, meaning that they generate values on-the-fly as they are needed, rather than creating the entire sequence of values upfront. This makes them memory efficient, especially when dealing with large datasets or infinite sequences.\n",
    "\n",
    "Here's an example to illustrate generator comprehension:\n",
    "# Create a generator that yields squares of numbers from 0 to 9\n",
    "gen = (x**2 for x in range(10))\n",
    "\n",
    "# Iterate over the generator and print each value\n",
    "for value in gen:\n",
    "    print(value)\n",
    "In this example, (x**2 for x in range(10)) is a generator comprehension that generates the squares of numbers from 0 to 9. When you iterate over gen, it generates and yields each square value on-the-fly, rather than creating a list of squares upfront. This results in memory-efficient code, especially when dealing with large ranges of values."
   ]
  },
  {
   "cell_type": "code",
   "execution_count": null,
   "id": "84545994",
   "metadata": {},
   "outputs": [],
   "source": []
  }
 ],
 "metadata": {
  "kernelspec": {
   "display_name": "Python 3 (ipykernel)",
   "language": "python",
   "name": "python3"
  },
  "language_info": {
   "codemirror_mode": {
    "name": "ipython",
    "version": 3
   },
   "file_extension": ".py",
   "mimetype": "text/x-python",
   "name": "python",
   "nbconvert_exporter": "python",
   "pygments_lexer": "ipython3",
   "version": "3.8.10"
  }
 },
 "nbformat": 4,
 "nbformat_minor": 5
}
